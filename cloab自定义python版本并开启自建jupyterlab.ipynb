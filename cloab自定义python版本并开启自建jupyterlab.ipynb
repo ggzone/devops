{
  "nbformat": 4,
  "nbformat_minor": 0,
  "metadata": {
    "colab": {
      "provenance": [],
      "authorship_tag": "ABX9TyM5JEGdJR7Q4x5BnGvrUOHJ",
      "include_colab_link": true
    },
    "kernelspec": {
      "name": "python3",
      "display_name": "Python 3"
    },
    "language_info": {
      "name": "python"
    }
  },
  "cells": [
    {
      "cell_type": "markdown",
      "metadata": {
        "id": "view-in-github",
        "colab_type": "text"
      },
      "source": [
        "<a href=\"https://colab.research.google.com/github/ggzone/devops/blob/main/cloab%E8%87%AA%E5%AE%9A%E4%B9%89python%E7%89%88%E6%9C%AC%E5%B9%B6%E5%BC%80%E5%90%AF%E8%87%AA%E5%BB%BAjupyterlab.ipynb\" target=\"_parent\"><img src=\"https://colab.research.google.com/assets/colab-badge.svg\" alt=\"Open In Colab\"/></a>"
      ]
    },
    {
      "cell_type": "code",
      "source": [
        "from google.colab import drive\n",
        "drive.mount('/content/drive/')\n",
        "\n",
        "import os\n",
        "os.chdir('/content/drive/MyDrive/comfui')\n",
        "!pwd"
      ],
      "metadata": {
        "colab": {
          "base_uri": "https://localhost:8080/"
        },
        "id": "o88TwMEMlPTV",
        "outputId": "e70f1131-6996-4ee6-821a-6cc595ada183"
      },
      "execution_count": 1,
      "outputs": [
        {
          "output_type": "stream",
          "name": "stdout",
          "text": [
            "Mounted at /content/drive/\n",
            "/content/drive/MyDrive/comfui\n"
          ]
        }
      ]
    },
    {
      "cell_type": "code",
      "source": [
        "!python --version\n",
        "!pip --version\n",
        "!which python|xargs -I {} ls -lah {}\n",
        "!which pip|xargs -I {} ls -lah {}"
      ],
      "metadata": {
        "colab": {
          "base_uri": "https://localhost:8080/"
        },
        "id": "TK2ffyLKBZrt",
        "outputId": "39ebef8b-18d2-4b6b-af3b-27aa549d15a5"
      },
      "execution_count": 1,
      "outputs": [
        {
          "output_type": "stream",
          "name": "stdout",
          "text": [
            "Python 3.11.11\n",
            "pip 24.1.2 from /usr/local/lib/python3.11/dist-packages/pip (python 3.11)\n",
            "-r-xr-xr-x 1 root root 155 Jan  1  2000 /usr/local/bin/python\n",
            "-r-xr-xr-x 1 root root 155 Jan  1  2000 /usr/local/bin/pip\n"
          ]
        }
      ]
    },
    {
      "cell_type": "code",
      "execution_count": 2,
      "metadata": {
        "colab": {
          "base_uri": "https://localhost:8080/"
        },
        "id": "nnex_2dOkXmM",
        "outputId": "f4724517-38c1-4766-d4ac-194e599d265e"
      },
      "outputs": [
        {
          "output_type": "stream",
          "name": "stdout",
          "text": [
            "Reading package lists... Done\n",
            "Building dependency tree... Done\n",
            "Reading state information... Done\n",
            "The following additional packages will be installed:\n",
            "  libpython3.12-stdlib\n",
            "Suggested packages:\n",
            "  python3.12-venv\n",
            "The following NEW packages will be installed:\n",
            "  libpython3.12-stdlib python3.12\n",
            "0 upgraded, 2 newly installed, 0 to remove and 21 not upgraded.\n",
            "Need to get 5,418 kB of archives.\n",
            "After this operation, 22.6 MB of additional disk space will be used.\n",
            "Get:1 https://ppa.launchpadcontent.net/deadsnakes/ppa/ubuntu jammy/main amd64 libpython3.12-stdlib amd64 3.12.9-1+jammy1 [2,892 kB]\n",
            "Get:2 https://ppa.launchpadcontent.net/deadsnakes/ppa/ubuntu jammy/main amd64 python3.12 amd64 3.12.9-1+jammy1 [2,526 kB]\n",
            "Fetched 5,418 kB in 1s (4,523 kB/s)\n",
            "debconf: unable to initialize frontend: Dialog\n",
            "debconf: (No usable dialog-like program is installed, so the dialog based frontend cannot be used. at /usr/share/perl5/Debconf/FrontEnd/Dialog.pm line 78, <> line 2.)\n",
            "debconf: falling back to frontend: Readline\n",
            "debconf: unable to initialize frontend: Readline\n",
            "debconf: (This frontend requires a controlling tty.)\n",
            "debconf: falling back to frontend: Teletype\n",
            "dpkg-preconfigure: unable to re-open stdin: \n",
            "Selecting previously unselected package libpython3.12-stdlib:amd64.\n",
            "(Reading database ... 124926 files and directories currently installed.)\n",
            "Preparing to unpack .../libpython3.12-stdlib_3.12.9-1+jammy1_amd64.deb ...\n",
            "Unpacking libpython3.12-stdlib:amd64 (3.12.9-1+jammy1) ...\n",
            "Selecting previously unselected package python3.12.\n",
            "Preparing to unpack .../python3.12_3.12.9-1+jammy1_amd64.deb ...\n",
            "Unpacking python3.12 (3.12.9-1+jammy1) ...\n",
            "Setting up libpython3.12-stdlib:amd64 (3.12.9-1+jammy1) ...\n",
            "Setting up python3.12 (3.12.9-1+jammy1) ...\n",
            "Processing triggers for mailcap (3.70+nmu1ubuntu1) ...\n",
            "Processing triggers for man-db (2.10.2-1) ...\n"
          ]
        }
      ],
      "source": [
        "!sudo apt-get install python3.12"
      ]
    },
    {
      "cell_type": "code",
      "source": [
        "!mv /usr/local/bin/python /usr/local/bin/python-3.11\n",
        "!cp /usr/bin/python3.12 /usr/local/bin/python"
      ],
      "metadata": {
        "id": "zXWo1qIuC3H7"
      },
      "execution_count": 3,
      "outputs": []
    },
    {
      "cell_type": "code",
      "source": [
        "#默认pip是3.11版本，需要更新到python3.12，会造成全局更新\n",
        "!curl https://bootstrap.pypa.io/get-pip.py -o get-pip.py\n",
        "!/usr/bin/python3.12 get-pip.py"
      ],
      "metadata": {
        "colab": {
          "base_uri": "https://localhost:8080/"
        },
        "id": "8Lk59j5Q4JDH",
        "outputId": "4f8b5b18-5330-4f5b-8d69-da188d569a23"
      },
      "execution_count": 4,
      "outputs": [
        {
          "output_type": "stream",
          "name": "stdout",
          "text": [
            "  % Total    % Received % Xferd  Average Speed   Time    Time     Time  Current\n",
            "                                 Dload  Upload   Total   Spent    Left  Speed\n",
            "100 2246k  100 2246k    0     0  16.5M      0 --:--:-- --:--:-- --:--:-- 16.4M\n",
            "Collecting pip\n",
            "  Downloading pip-25.0.1-py3-none-any.whl.metadata (3.7 kB)\n",
            "Downloading pip-25.0.1-py3-none-any.whl (1.8 MB)\n",
            "\u001b[2K   \u001b[90m━━━━━━━━━━━━━━━━━━━━━━━━━━━━━━━━━━━━━━━━\u001b[0m \u001b[32m1.8/1.8 MB\u001b[0m \u001b[31m43.3 MB/s\u001b[0m eta \u001b[36m0:00:00\u001b[0m\n",
            "\u001b[?25hInstalling collected packages: pip\n",
            "Successfully installed pip-25.0.1\n"
          ]
        }
      ]
    },
    {
      "cell_type": "code",
      "source": [
        "#重启会话\n",
        "!python --version\n",
        "!pip --version\n",
        "!/usr/bin/python3.12 --version\n",
        "!/usr/bin/python3.12 -m pip --version"
      ],
      "metadata": {
        "colab": {
          "base_uri": "https://localhost:8080/"
        },
        "id": "X9S4VlGfDi-D",
        "outputId": "768ddf98-7eb4-43be-f20c-49146db67206"
      },
      "execution_count": 5,
      "outputs": [
        {
          "output_type": "stream",
          "name": "stdout",
          "text": [
            "Python 3.12.9\n",
            "pip 25.0.1 from /usr/local/lib/python3.12/dist-packages/pip (python 3.12)\n",
            "Python 3.12.9\n",
            "pip 25.0.1 from /usr/local/lib/python3.12/dist-packages/pip (python 3.12)\n"
          ]
        }
      ]
    },
    {
      "cell_type": "code",
      "source": [
        "#!sudo update-alternatives --install /usr/local/bin/python python3 /usr/bin/python3.12 1"
      ],
      "metadata": {
        "colab": {
          "base_uri": "https://localhost:8080/"
        },
        "id": "sWooFNex1rGV",
        "outputId": "fb7caaf9-65c3-4560-ed2d-15f797a9d8f4"
      },
      "execution_count": 3,
      "outputs": [
        {
          "output_type": "stream",
          "name": "stdout",
          "text": [
            "update-alternatives: renaming python3 link from /usr/bin/python3 to /usr/local/bin/python\n"
          ]
        }
      ]
    },
    {
      "cell_type": "code",
      "source": [
        "# cloab默认环境是3.11,直接在新安装的3.12安装jupyterlab启动会报错。该处是在3.11上安装jupyterlab\n",
        "!/usr/bin/python3.11 -m pip install jupyterlab\n",
        "!which jupyter-lab"
      ],
      "metadata": {
        "colab": {
          "base_uri": "https://localhost:8080/"
        },
        "id": "PhdApA_aPEuH",
        "outputId": "802a649a-8292-42bd-ac7a-c5d5b9c9271b"
      },
      "execution_count": 6,
      "outputs": [
        {
          "output_type": "stream",
          "name": "stdout",
          "text": [
            "Collecting jupyterlab\n",
            "  Downloading jupyterlab-4.3.5-py3-none-any.whl.metadata (16 kB)\n",
            "Collecting async-lru>=1.0.0 (from jupyterlab)\n",
            "  Downloading async_lru-2.0.4-py3-none-any.whl.metadata (4.5 kB)\n",
            "Requirement already satisfied: httpx>=0.25.0 in /usr/local/lib/python3.11/dist-packages (from jupyterlab) (0.28.1)\n",
            "Requirement already satisfied: ipykernel>=6.5.0 in /usr/local/lib/python3.11/dist-packages (from jupyterlab) (6.17.1)\n",
            "Requirement already satisfied: jinja2>=3.0.3 in /usr/local/lib/python3.11/dist-packages (from jupyterlab) (3.1.5)\n",
            "Requirement already satisfied: jupyter-core in /usr/local/lib/python3.11/dist-packages (from jupyterlab) (5.7.2)\n",
            "Collecting jupyter-lsp>=2.0.0 (from jupyterlab)\n",
            "  Downloading jupyter_lsp-2.2.5-py3-none-any.whl.metadata (1.8 kB)\n",
            "Collecting jupyter-server<3,>=2.4.0 (from jupyterlab)\n",
            "  Downloading jupyter_server-2.15.0-py3-none-any.whl.metadata (8.4 kB)\n",
            "Collecting jupyterlab-server<3,>=2.27.1 (from jupyterlab)\n",
            "  Downloading jupyterlab_server-2.27.3-py3-none-any.whl.metadata (5.9 kB)\n",
            "Requirement already satisfied: notebook-shim>=0.2 in /usr/local/lib/python3.11/dist-packages (from jupyterlab) (0.2.4)\n",
            "Requirement already satisfied: packaging in /usr/local/lib/python3.11/dist-packages (from jupyterlab) (24.2)\n",
            "Requirement already satisfied: setuptools>=40.8.0 in /usr/local/lib/python3.11/dist-packages (from jupyterlab) (75.1.0)\n",
            "Requirement already satisfied: tornado>=6.2.0 in /usr/local/lib/python3.11/dist-packages (from jupyterlab) (6.4.2)\n",
            "Requirement already satisfied: traitlets in /usr/local/lib/python3.11/dist-packages (from jupyterlab) (5.7.1)\n",
            "Requirement already satisfied: anyio in /usr/local/lib/python3.11/dist-packages (from httpx>=0.25.0->jupyterlab) (3.7.1)\n",
            "Requirement already satisfied: certifi in /usr/local/lib/python3.11/dist-packages (from httpx>=0.25.0->jupyterlab) (2025.1.31)\n",
            "Requirement already satisfied: httpcore==1.* in /usr/local/lib/python3.11/dist-packages (from httpx>=0.25.0->jupyterlab) (1.0.7)\n",
            "Requirement already satisfied: idna in /usr/local/lib/python3.11/dist-packages (from httpx>=0.25.0->jupyterlab) (3.10)\n",
            "Requirement already satisfied: h11<0.15,>=0.13 in /usr/local/lib/python3.11/dist-packages (from httpcore==1.*->httpx>=0.25.0->jupyterlab) (0.14.0)\n",
            "Requirement already satisfied: debugpy>=1.0 in /usr/local/lib/python3.11/dist-packages (from ipykernel>=6.5.0->jupyterlab) (1.8.0)\n",
            "Requirement already satisfied: ipython>=7.23.1 in /usr/local/lib/python3.11/dist-packages (from ipykernel>=6.5.0->jupyterlab) (7.34.0)\n",
            "Requirement already satisfied: jupyter-client>=6.1.12 in /usr/local/lib/python3.11/dist-packages (from ipykernel>=6.5.0->jupyterlab) (6.1.12)\n",
            "Requirement already satisfied: matplotlib-inline>=0.1 in /usr/local/lib/python3.11/dist-packages (from ipykernel>=6.5.0->jupyterlab) (0.1.7)\n",
            "Requirement already satisfied: nest-asyncio in /usr/local/lib/python3.11/dist-packages (from ipykernel>=6.5.0->jupyterlab) (1.6.0)\n",
            "Requirement already satisfied: psutil in /usr/local/lib/python3.11/dist-packages (from ipykernel>=6.5.0->jupyterlab) (5.9.5)\n",
            "Requirement already satisfied: pyzmq>=17 in /usr/local/lib/python3.11/dist-packages (from ipykernel>=6.5.0->jupyterlab) (24.0.1)\n",
            "Requirement already satisfied: MarkupSafe>=2.0 in /usr/local/lib/python3.11/dist-packages (from jinja2>=3.0.3->jupyterlab) (3.0.2)\n",
            "Requirement already satisfied: argon2-cffi>=21.1 in /usr/local/lib/python3.11/dist-packages (from jupyter-server<3,>=2.4.0->jupyterlab) (23.1.0)\n",
            "Collecting jupyter-client>=6.1.12 (from ipykernel>=6.5.0->jupyterlab)\n",
            "  Downloading jupyter_client-8.6.3-py3-none-any.whl.metadata (8.3 kB)\n",
            "Collecting jupyter-events>=0.11.0 (from jupyter-server<3,>=2.4.0->jupyterlab)\n",
            "  Downloading jupyter_events-0.12.0-py3-none-any.whl.metadata (5.8 kB)\n",
            "Collecting jupyter-server-terminals>=0.4.4 (from jupyter-server<3,>=2.4.0->jupyterlab)\n",
            "  Downloading jupyter_server_terminals-0.5.3-py3-none-any.whl.metadata (5.6 kB)\n",
            "Requirement already satisfied: nbconvert>=6.4.4 in /usr/local/lib/python3.11/dist-packages (from jupyter-server<3,>=2.4.0->jupyterlab) (7.16.6)\n",
            "Requirement already satisfied: nbformat>=5.3.0 in /usr/local/lib/python3.11/dist-packages (from jupyter-server<3,>=2.4.0->jupyterlab) (5.10.4)\n",
            "Collecting overrides>=5.0 (from jupyter-server<3,>=2.4.0->jupyterlab)\n",
            "  Downloading overrides-7.7.0-py3-none-any.whl.metadata (5.8 kB)\n",
            "Requirement already satisfied: prometheus-client>=0.9 in /usr/local/lib/python3.11/dist-packages (from jupyter-server<3,>=2.4.0->jupyterlab) (0.21.1)\n",
            "Requirement already satisfied: send2trash>=1.8.2 in /usr/local/lib/python3.11/dist-packages (from jupyter-server<3,>=2.4.0->jupyterlab) (1.8.3)\n",
            "Requirement already satisfied: terminado>=0.8.3 in /usr/local/lib/python3.11/dist-packages (from jupyter-server<3,>=2.4.0->jupyterlab) (0.18.1)\n",
            "Requirement already satisfied: websocket-client>=1.7 in /usr/local/lib/python3.11/dist-packages (from jupyter-server<3,>=2.4.0->jupyterlab) (1.8.0)\n",
            "Requirement already satisfied: platformdirs>=2.5 in /usr/local/lib/python3.11/dist-packages (from jupyter-core->jupyterlab) (4.3.6)\n",
            "Requirement already satisfied: babel>=2.10 in /usr/local/lib/python3.11/dist-packages (from jupyterlab-server<3,>=2.27.1->jupyterlab) (2.17.0)\n",
            "Collecting json5>=0.9.0 (from jupyterlab-server<3,>=2.27.1->jupyterlab)\n",
            "  Downloading json5-0.10.0-py3-none-any.whl.metadata (34 kB)\n",
            "Requirement already satisfied: jsonschema>=4.18.0 in /usr/local/lib/python3.11/dist-packages (from jupyterlab-server<3,>=2.27.1->jupyterlab) (4.23.0)\n",
            "Requirement already satisfied: requests>=2.31 in /usr/local/lib/python3.11/dist-packages (from jupyterlab-server<3,>=2.27.1->jupyterlab) (2.32.3)\n",
            "Requirement already satisfied: sniffio>=1.1 in /usr/local/lib/python3.11/dist-packages (from anyio->httpx>=0.25.0->jupyterlab) (1.3.1)\n",
            "Requirement already satisfied: argon2-cffi-bindings in /usr/local/lib/python3.11/dist-packages (from argon2-cffi>=21.1->jupyter-server<3,>=2.4.0->jupyterlab) (21.2.0)\n",
            "Collecting jedi>=0.16 (from ipython>=7.23.1->ipykernel>=6.5.0->jupyterlab)\n",
            "  Downloading jedi-0.19.2-py2.py3-none-any.whl.metadata (22 kB)\n",
            "Requirement already satisfied: decorator in /usr/local/lib/python3.11/dist-packages (from ipython>=7.23.1->ipykernel>=6.5.0->jupyterlab) (4.4.2)\n",
            "Requirement already satisfied: pickleshare in /usr/local/lib/python3.11/dist-packages (from ipython>=7.23.1->ipykernel>=6.5.0->jupyterlab) (0.7.5)\n",
            "Requirement already satisfied: prompt-toolkit!=3.0.0,!=3.0.1,<3.1.0,>=2.0.0 in /usr/local/lib/python3.11/dist-packages (from ipython>=7.23.1->ipykernel>=6.5.0->jupyterlab) (3.0.50)\n",
            "Requirement already satisfied: pygments in /usr/local/lib/python3.11/dist-packages (from ipython>=7.23.1->ipykernel>=6.5.0->jupyterlab) (2.18.0)\n",
            "Requirement already satisfied: backcall in /usr/local/lib/python3.11/dist-packages (from ipython>=7.23.1->ipykernel>=6.5.0->jupyterlab) (0.2.0)\n",
            "Requirement already satisfied: pexpect>4.3 in /usr/local/lib/python3.11/dist-packages (from ipython>=7.23.1->ipykernel>=6.5.0->jupyterlab) (4.9.0)\n",
            "Requirement already satisfied: attrs>=22.2.0 in /usr/local/lib/python3.11/dist-packages (from jsonschema>=4.18.0->jupyterlab-server<3,>=2.27.1->jupyterlab) (25.1.0)\n",
            "Requirement already satisfied: jsonschema-specifications>=2023.03.6 in /usr/local/lib/python3.11/dist-packages (from jsonschema>=4.18.0->jupyterlab-server<3,>=2.27.1->jupyterlab) (2024.10.1)\n",
            "Requirement already satisfied: referencing>=0.28.4 in /usr/local/lib/python3.11/dist-packages (from jsonschema>=4.18.0->jupyterlab-server<3,>=2.27.1->jupyterlab) (0.36.2)\n",
            "Requirement already satisfied: rpds-py>=0.7.1 in /usr/local/lib/python3.11/dist-packages (from jsonschema>=4.18.0->jupyterlab-server<3,>=2.27.1->jupyterlab) (0.22.3)\n",
            "Requirement already satisfied: python-dateutil>=2.8.2 in /usr/local/lib/python3.11/dist-packages (from jupyter-client>=6.1.12->ipykernel>=6.5.0->jupyterlab) (2.8.2)\n",
            "Collecting python-json-logger>=2.0.4 (from jupyter-events>=0.11.0->jupyter-server<3,>=2.4.0->jupyterlab)\n",
            "  Downloading python_json_logger-3.2.1-py3-none-any.whl.metadata (4.1 kB)\n",
            "Requirement already satisfied: pyyaml>=5.3 in /usr/local/lib/python3.11/dist-packages (from jupyter-events>=0.11.0->jupyter-server<3,>=2.4.0->jupyterlab) (6.0.2)\n",
            "Collecting rfc3339-validator (from jupyter-events>=0.11.0->jupyter-server<3,>=2.4.0->jupyterlab)\n",
            "  Downloading rfc3339_validator-0.1.4-py2.py3-none-any.whl.metadata (1.5 kB)\n",
            "Collecting rfc3986-validator>=0.1.1 (from jupyter-events>=0.11.0->jupyter-server<3,>=2.4.0->jupyterlab)\n",
            "  Downloading rfc3986_validator-0.1.1-py2.py3-none-any.whl.metadata (1.7 kB)\n",
            "Requirement already satisfied: beautifulsoup4 in /usr/local/lib/python3.11/dist-packages (from nbconvert>=6.4.4->jupyter-server<3,>=2.4.0->jupyterlab) (4.13.3)\n",
            "Requirement already satisfied: bleach!=5.0.0 in /usr/local/lib/python3.11/dist-packages (from bleach[css]!=5.0.0->nbconvert>=6.4.4->jupyter-server<3,>=2.4.0->jupyterlab) (6.2.0)\n",
            "Requirement already satisfied: defusedxml in /usr/local/lib/python3.11/dist-packages (from nbconvert>=6.4.4->jupyter-server<3,>=2.4.0->jupyterlab) (0.7.1)\n",
            "Requirement already satisfied: jupyterlab-pygments in /usr/local/lib/python3.11/dist-packages (from nbconvert>=6.4.4->jupyter-server<3,>=2.4.0->jupyterlab) (0.3.0)\n",
            "Requirement already satisfied: mistune<4,>=2.0.3 in /usr/local/lib/python3.11/dist-packages (from nbconvert>=6.4.4->jupyter-server<3,>=2.4.0->jupyterlab) (3.1.2)\n",
            "Requirement already satisfied: nbclient>=0.5.0 in /usr/local/lib/python3.11/dist-packages (from nbconvert>=6.4.4->jupyter-server<3,>=2.4.0->jupyterlab) (0.10.2)\n",
            "Requirement already satisfied: pandocfilters>=1.4.1 in /usr/local/lib/python3.11/dist-packages (from nbconvert>=6.4.4->jupyter-server<3,>=2.4.0->jupyterlab) (1.5.1)\n",
            "Requirement already satisfied: fastjsonschema>=2.15 in /usr/local/lib/python3.11/dist-packages (from nbformat>=5.3.0->jupyter-server<3,>=2.4.0->jupyterlab) (2.21.1)\n",
            "Requirement already satisfied: charset-normalizer<4,>=2 in /usr/local/lib/python3.11/dist-packages (from requests>=2.31->jupyterlab-server<3,>=2.27.1->jupyterlab) (3.4.1)\n",
            "Requirement already satisfied: urllib3<3,>=1.21.1 in /usr/local/lib/python3.11/dist-packages (from requests>=2.31->jupyterlab-server<3,>=2.27.1->jupyterlab) (2.3.0)\n",
            "Requirement already satisfied: ptyprocess in /usr/local/lib/python3.11/dist-packages (from terminado>=0.8.3->jupyter-server<3,>=2.4.0->jupyterlab) (0.7.0)\n",
            "Requirement already satisfied: webencodings in /usr/local/lib/python3.11/dist-packages (from bleach!=5.0.0->bleach[css]!=5.0.0->nbconvert>=6.4.4->jupyter-server<3,>=2.4.0->jupyterlab) (0.5.1)\n",
            "Requirement already satisfied: tinycss2<1.5,>=1.1.0 in /usr/local/lib/python3.11/dist-packages (from bleach[css]!=5.0.0->nbconvert>=6.4.4->jupyter-server<3,>=2.4.0->jupyterlab) (1.4.0)\n",
            "Requirement already satisfied: parso<0.9.0,>=0.8.4 in /usr/local/lib/python3.11/dist-packages (from jedi>=0.16->ipython>=7.23.1->ipykernel>=6.5.0->jupyterlab) (0.8.4)\n",
            "Collecting fqdn (from jsonschema[format-nongpl]>=4.18.0->jupyter-events>=0.11.0->jupyter-server<3,>=2.4.0->jupyterlab)\n",
            "  Downloading fqdn-1.5.1-py3-none-any.whl.metadata (1.4 kB)\n",
            "Collecting isoduration (from jsonschema[format-nongpl]>=4.18.0->jupyter-events>=0.11.0->jupyter-server<3,>=2.4.0->jupyterlab)\n",
            "  Downloading isoduration-20.11.0-py3-none-any.whl.metadata (5.7 kB)\n",
            "Requirement already satisfied: jsonpointer>1.13 in /usr/local/lib/python3.11/dist-packages (from jsonschema[format-nongpl]>=4.18.0->jupyter-events>=0.11.0->jupyter-server<3,>=2.4.0->jupyterlab) (3.0.0)\n",
            "Collecting uri-template (from jsonschema[format-nongpl]>=4.18.0->jupyter-events>=0.11.0->jupyter-server<3,>=2.4.0->jupyterlab)\n",
            "  Downloading uri_template-1.3.0-py3-none-any.whl.metadata (8.8 kB)\n",
            "Requirement already satisfied: webcolors>=24.6.0 in /usr/local/lib/python3.11/dist-packages (from jsonschema[format-nongpl]>=4.18.0->jupyter-events>=0.11.0->jupyter-server<3,>=2.4.0->jupyterlab) (24.11.1)\n",
            "Requirement already satisfied: wcwidth in /usr/local/lib/python3.11/dist-packages (from prompt-toolkit!=3.0.0,!=3.0.1,<3.1.0,>=2.0.0->ipython>=7.23.1->ipykernel>=6.5.0->jupyterlab) (0.2.13)\n",
            "Requirement already satisfied: six>=1.5 in /usr/local/lib/python3.11/dist-packages (from python-dateutil>=2.8.2->jupyter-client>=6.1.12->ipykernel>=6.5.0->jupyterlab) (1.17.0)\n",
            "Requirement already satisfied: typing-extensions>=4.4.0 in /usr/local/lib/python3.11/dist-packages (from referencing>=0.28.4->jsonschema>=4.18.0->jupyterlab-server<3,>=2.27.1->jupyterlab) (4.12.2)\n",
            "Requirement already satisfied: cffi>=1.0.1 in /usr/local/lib/python3.11/dist-packages (from argon2-cffi-bindings->argon2-cffi>=21.1->jupyter-server<3,>=2.4.0->jupyterlab) (1.17.1)\n",
            "Requirement already satisfied: soupsieve>1.2 in /usr/local/lib/python3.11/dist-packages (from beautifulsoup4->nbconvert>=6.4.4->jupyter-server<3,>=2.4.0->jupyterlab) (2.6)\n",
            "Requirement already satisfied: pycparser in /usr/local/lib/python3.11/dist-packages (from cffi>=1.0.1->argon2-cffi-bindings->argon2-cffi>=21.1->jupyter-server<3,>=2.4.0->jupyterlab) (2.22)\n",
            "Collecting arrow>=0.15.0 (from isoduration->jsonschema[format-nongpl]>=4.18.0->jupyter-events>=0.11.0->jupyter-server<3,>=2.4.0->jupyterlab)\n",
            "  Downloading arrow-1.3.0-py3-none-any.whl.metadata (7.5 kB)\n",
            "Collecting types-python-dateutil>=2.8.10 (from arrow>=0.15.0->isoduration->jsonschema[format-nongpl]>=4.18.0->jupyter-events>=0.11.0->jupyter-server<3,>=2.4.0->jupyterlab)\n",
            "  Downloading types_python_dateutil-2.9.0.20241206-py3-none-any.whl.metadata (2.1 kB)\n",
            "Downloading jupyterlab-4.3.5-py3-none-any.whl (11.7 MB)\n",
            "\u001b[2K   \u001b[90m━━━━━━━━━━━━━━━━━━━━━━━━━━━━━━━━━━━━━━━━\u001b[0m \u001b[32m11.7/11.7 MB\u001b[0m \u001b[31m94.0 MB/s\u001b[0m eta \u001b[36m0:00:00\u001b[0m\n",
            "\u001b[?25hDownloading async_lru-2.0.4-py3-none-any.whl (6.1 kB)\n",
            "Downloading jupyter_lsp-2.2.5-py3-none-any.whl (69 kB)\n",
            "\u001b[2K   \u001b[90m━━━━━━━━━━━━━━━━━━━━━━━━━━━━━━━━━━━━━━━━\u001b[0m \u001b[32m69.1/69.1 kB\u001b[0m \u001b[31m7.7 MB/s\u001b[0m eta \u001b[36m0:00:00\u001b[0m\n",
            "\u001b[?25hDownloading jupyter_server-2.15.0-py3-none-any.whl (385 kB)\n",
            "\u001b[2K   \u001b[90m━━━━━━━━━━━━━━━━━━━━━━━━━━━━━━━━━━━━━━━━\u001b[0m \u001b[32m385.8/385.8 kB\u001b[0m \u001b[31m36.0 MB/s\u001b[0m eta \u001b[36m0:00:00\u001b[0m\n",
            "\u001b[?25hDownloading jupyterlab_server-2.27.3-py3-none-any.whl (59 kB)\n",
            "\u001b[2K   \u001b[90m━━━━━━━━━━━━━━━━━━━━━━━━━━━━━━━━━━━━━━━━\u001b[0m \u001b[32m59.7/59.7 kB\u001b[0m \u001b[31m6.3 MB/s\u001b[0m eta \u001b[36m0:00:00\u001b[0m\n",
            "\u001b[?25hDownloading json5-0.10.0-py3-none-any.whl (34 kB)\n",
            "Downloading jupyter_client-8.6.3-py3-none-any.whl (106 kB)\n",
            "\u001b[2K   \u001b[90m━━━━━━━━━━━━━━━━━━━━━━━━━━━━━━━━━━━━━━━━\u001b[0m \u001b[32m106.1/106.1 kB\u001b[0m \u001b[31m11.4 MB/s\u001b[0m eta \u001b[36m0:00:00\u001b[0m\n",
            "\u001b[?25hDownloading jupyter_events-0.12.0-py3-none-any.whl (19 kB)\n",
            "Downloading jupyter_server_terminals-0.5.3-py3-none-any.whl (13 kB)\n",
            "Downloading overrides-7.7.0-py3-none-any.whl (17 kB)\n",
            "Downloading jedi-0.19.2-py2.py3-none-any.whl (1.6 MB)\n",
            "\u001b[2K   \u001b[90m━━━━━━━━━━━━━━━━━━━━━━━━━━━━━━━━━━━━━━━━\u001b[0m \u001b[32m1.6/1.6 MB\u001b[0m \u001b[31m70.2 MB/s\u001b[0m eta \u001b[36m0:00:00\u001b[0m\n",
            "\u001b[?25hDownloading python_json_logger-3.2.1-py3-none-any.whl (14 kB)\n",
            "Downloading rfc3986_validator-0.1.1-py2.py3-none-any.whl (4.2 kB)\n",
            "Downloading rfc3339_validator-0.1.4-py2.py3-none-any.whl (3.5 kB)\n",
            "Downloading fqdn-1.5.1-py3-none-any.whl (9.1 kB)\n",
            "Downloading isoduration-20.11.0-py3-none-any.whl (11 kB)\n",
            "Downloading uri_template-1.3.0-py3-none-any.whl (11 kB)\n",
            "Downloading arrow-1.3.0-py3-none-any.whl (66 kB)\n",
            "\u001b[2K   \u001b[90m━━━━━━━━━━━━━━━━━━━━━━━━━━━━━━━━━━━━━━━━\u001b[0m \u001b[32m66.4/66.4 kB\u001b[0m \u001b[31m7.1 MB/s\u001b[0m eta \u001b[36m0:00:00\u001b[0m\n",
            "\u001b[?25hDownloading types_python_dateutil-2.9.0.20241206-py3-none-any.whl (14 kB)\n",
            "Installing collected packages: uri-template, types-python-dateutil, rfc3986-validator, rfc3339-validator, python-json-logger, overrides, json5, jedi, fqdn, async-lru, jupyter-server-terminals, jupyter-client, arrow, isoduration, jupyter-events, jupyter-server, jupyterlab-server, jupyter-lsp, jupyterlab\n",
            "  Attempting uninstall: jupyter-client\n",
            "    Found existing installation: jupyter-client 6.1.12\n",
            "    Uninstalling jupyter-client-6.1.12:\n",
            "      Successfully uninstalled jupyter-client-6.1.12\n",
            "  Attempting uninstall: jupyter-server\n",
            "    Found existing installation: jupyter-server 1.24.0\n",
            "    Uninstalling jupyter-server-1.24.0:\n",
            "      Successfully uninstalled jupyter-server-1.24.0\n",
            "\u001b[31mERROR: pip's dependency resolver does not currently take into account all the packages that are installed. This behaviour is the source of the following dependency conflicts.\n",
            "notebook 6.5.5 requires jupyter-client<8,>=5.3.4, but you have jupyter-client 8.6.3 which is incompatible.\u001b[0m\u001b[31m\n",
            "\u001b[0mSuccessfully installed arrow-1.3.0 async-lru-2.0.4 fqdn-1.5.1 isoduration-20.11.0 jedi-0.19.2 json5-0.10.0 jupyter-client-8.6.3 jupyter-events-0.12.0 jupyter-lsp-2.2.5 jupyter-server-2.15.0 jupyter-server-terminals-0.5.3 jupyterlab-4.3.5 jupyterlab-server-2.27.3 overrides-7.7.0 python-json-logger-3.2.1 rfc3339-validator-0.1.4 rfc3986-validator-0.1.1 types-python-dateutil-2.9.0.20241206 uri-template-1.3.0\n",
            "/usr/local/bin/jupyter-lab\n"
          ]
        }
      ]
    },
    {
      "cell_type": "code",
      "source": [
        "#!nohup /usr/local/bin/jupyter-lab --ip=0.0.0.0 --NotebookApp.token= --allow-root 2>&1>/content/nohup.out &"
      ],
      "metadata": {
        "colab": {
          "base_uri": "https://localhost:8080/"
        },
        "id": "nvuWxKrx3N0A",
        "outputId": "eb07568d-9915-4ffc-a3e8-925e6301e428"
      },
      "execution_count": 30,
      "outputs": [
        {
          "output_type": "stream",
          "name": "stdout",
          "text": [
            "nohup: redirecting stderr to stdout\n"
          ]
        }
      ]
    },
    {
      "cell_type": "code",
      "source": [
        "#启动一个新的jupyterlab，借助ngork进行内网穿透访问，主要是方便终端操作。\n",
        "!nohup /usr/local/bin/jupyter-lab --debug --transport=\"ipc\" --ip=0.0.0.0 --NotebookApp.token= --port=8888 --FileContentsManager.root_dir=/ --MappingKernelManager.root_dir=/content 2>&1>/content/nohup.out &"
      ],
      "metadata": {
        "colab": {
          "base_uri": "https://localhost:8080/"
        },
        "id": "EOmbTv1FH_We",
        "outputId": "e126ee5c-b2b6-4c94-d271-d1d5db06023e"
      },
      "execution_count": 7,
      "outputs": [
        {
          "output_type": "stream",
          "name": "stdout",
          "text": [
            "nohup: redirecting stderr to stdout\n"
          ]
        }
      ]
    },
    {
      "cell_type": "code",
      "source": [
        "!tail -n 50 /content/nohup.out"
      ],
      "metadata": {
        "colab": {
          "base_uri": "https://localhost:8080/"
        },
        "id": "fwXKZGW9FhV7",
        "outputId": "3c53c308-3311-47fd-c34f-b9b478f1d4d4"
      },
      "execution_count": 43,
      "outputs": [
        {
          "output_type": "stream",
          "name": "stdout",
          "text": [
            "[D 2025-02-23 10:21:15.436 ServerApp] Looking for jupyter_config in /usr/local/etc/jupyter\n",
            "[D 2025-02-23 10:21:15.436 ServerApp] Looking for jupyter_config in /usr/etc/jupyter\n",
            "[D 2025-02-23 10:21:15.436 ServerApp] Looking for jupyter_config in /root/.local/etc/jupyter\n",
            "[D 2025-02-23 10:21:15.436 ServerApp] Looking for jupyter_config in /root/.jupyter\n",
            "[D 2025-02-23 10:21:15.437 ServerApp] Looking for jupyter_server_config in /etc/jupyter\n",
            "[D 2025-02-23 10:21:15.437 ServerApp] Looking for jupyter_server_config in /usr/local/etc/jupyter\n",
            "[D 2025-02-23 10:21:15.437 ServerApp] Looking for jupyter_server_config in /usr/etc/jupyter\n",
            "[D 2025-02-23 10:21:15.437 ServerApp] Looking for jupyter_server_config in /root/.local/etc/jupyter\n",
            "[D 2025-02-23 10:21:15.437 ServerApp] Looking for jupyter_server_config in /root/.jupyter\n",
            "[I 2025-02-23 10:21:16.866 ServerApp] ipyparallel | extension was successfully linked.\n",
            "[I 2025-02-23 10:21:16.866 ServerApp] jupyter_lsp | extension was successfully linked.\n",
            "[D 2025-02-23 10:21:16.872 TerminalsExtensionApp] Config changed: {'KernelManager': {'transport': 'ipc'}, 'ServerApp': {'ip': '0.0.0.0', 'port': 8888, 'log_level': 'DEBUG', 'jpserver_extensions': <LazyConfigValue {'update': {'ipyparallel': True, 'jupyter_lsp': True, 'jupyter_server_terminals': True, 'nbclassic': True, 'notebook_shim': True, 'panel.io.jupyter_server_extension': True}}>}, 'NotebookApp': {'token': DeferredConfigString('')}, 'FileContentsManager': {'root_dir': '/'}, 'MappingKernelManager': {'root_dir': '/content'}, 'ExtensionApp': {'log_level': 'DEBUG'}}\n",
            "[D 2025-02-23 10:21:16.874 ServerApp] Config changed: {'KernelManager': {'transport': 'ipc'}, 'ServerApp': {'ip': '0.0.0.0', 'port': 8888, 'log_level': 'DEBUG', 'jpserver_extensions': <LazyConfigValue value={'jupyterlab': True, 'ipyparallel': True, 'jupyter_lsp': True, 'jupyter_server_terminals': True, 'nbclassic': True, 'notebook_shim': True, 'panel.io.jupyter_server_extension': True}>}, 'NotebookApp': {'token': DeferredConfigString('')}, 'FileContentsManager': {'root_dir': '/'}, 'MappingKernelManager': {'root_dir': '/content'}, 'ExtensionApp': {'log_level': 'DEBUG'}}\n",
            "[I 2025-02-23 10:21:16.875 ServerApp] jupyter_server_terminals | extension was successfully linked.\n",
            "[W 2025-02-23 10:21:16.877 LabApp] 'token' has moved from NotebookApp to ServerApp. This config will be passed to ServerApp. Be sure to update your config before our next release.\n",
            "[D 2025-02-23 10:21:16.881 LabApp] Config changed: {'NotebookApp': {}, 'ServerApp': {'ip': '0.0.0.0', 'port': 8888, 'log_level': 'DEBUG', 'jpserver_extensions': <LazyConfigValue value={'jupyterlab': True, 'ipyparallel': True, 'jupyter_lsp': True, 'jupyter_server_terminals': True, 'nbclassic': True, 'notebook_shim': True, 'panel.io.jupyter_server_extension': True}>, 'token': DeferredConfigString('')}, 'KernelManager': {'transport': 'ipc'}, 'FileContentsManager': {'root_dir': '/'}, 'MappingKernelManager': {'root_dir': '/content'}, 'ExtensionApp': {'log_level': 'DEBUG'}}\n",
            "[W 2025-02-23 10:21:16.882 ServerApp] ServerApp.token config is deprecated in 2.0. Use IdentityProvider.token.\n",
            "[I 2025-02-23 10:21:16.882 ServerApp] jupyterlab | extension was successfully linked.\n",
            "[W 2025-02-23 10:21:16.885 NotebookApp] 'allow_root' has moved from NotebookApp to ServerApp. This config will be passed to ServerApp. Be sure to update your config before our next release.\n",
            "[W 2025-02-23 10:21:16.885 NotebookApp] 'allow_root' has moved from NotebookApp to ServerApp. This config will be passed to ServerApp. Be sure to update your config before our next release.\n",
            "[W 2025-02-23 10:21:16.885 NotebookApp] 'port_retries' has moved from NotebookApp to ServerApp. This config will be passed to ServerApp. Be sure to update your config before our next release.\n",
            "[W 2025-02-23 10:21:16.885 NotebookApp] 'iopub_data_rate_limit' has moved from NotebookApp to ServerApp. This config will be passed to ServerApp. Be sure to update your config before our next release.\n",
            "[W 2025-02-23 10:21:16.885 NotebookApp] 'iopub_msg_rate_limit' has moved from NotebookApp to ServerApp. This config will be passed to ServerApp. Be sure to update your config before our next release.\n",
            "[W 2025-02-23 10:21:16.885 NotebookApp] 'rate_limit_window' has moved from NotebookApp to ServerApp. This config will be passed to ServerApp. Be sure to update your config before our next release.\n",
            "[W 2025-02-23 10:21:16.885 NotebookApp] 'login_handler_class' has moved from NotebookApp to ServerApp. This config will be passed to ServerApp. Be sure to update your config before our next release.\n",
            "[W 2025-02-23 10:21:16.885 NotebookApp] 'allow_origin' has moved from NotebookApp to ServerApp. This config will be passed to ServerApp. Be sure to update your config before our next release.\n",
            "[W 2025-02-23 10:21:16.885 NotebookApp] 'allow_remote_access' has moved from NotebookApp to ServerApp. This config will be passed to ServerApp. Be sure to update your config before our next release.\n",
            "[W 2025-02-23 10:21:16.885 NotebookApp] 'disable_check_xsrf' has moved from NotebookApp to ServerApp. This config will be passed to ServerApp. Be sure to update your config before our next release.\n",
            "[W 2025-02-23 10:21:16.885 NotebookApp] 'disable_check_xsrf' has moved from NotebookApp to ServerApp. This config will be passed to ServerApp. Be sure to update your config before our next release.\n",
            "|DEBUG|Config changed: {'NotebookApp': {'open_browser': False, 'log_format': '|%(levelname)s|%(message)s', 'nbserver_extensions': {'google.colab._serverextension': False}}, 'ServerApp': {'allow_root': True, 'port_retries': 0, 'iopub_data_rate_limit': 10000000000.0, 'iopub_msg_rate_limit': 10000, 'rate_limit_window': 1.0, 'login_handler_class': 'google.colab._login_handler.ColabLoginHandler', 'allow_origin': '*', 'allow_remote_access': True, 'disable_check_xsrf': True, 'ip': '0.0.0.0', 'port': 8888, 'log_level': 'DEBUG', 'jpserver_extensions': <LazyConfigValue value={'jupyterlab': True, 'ipyparallel': True, 'jupyter_lsp': True, 'jupyter_server_terminals': True, 'nbclassic': True, 'notebook_shim': True, 'panel.io.jupyter_server_extension': True}>, 'token': DeferredConfigString('')}, 'JupyterApp': {'answer_yes': True}, 'Application': {'log_level': 10}, 'MultiKernelManager': {'default_kernel_name': 'python3'}, 'Session': {'key': b'', 'keyfile': ''}, 'KernelManager': {'transport': 'ipc'}, 'FileContentsManager': {'root_dir': '/'}, 'MappingKernelManager': {'root_dir': '/content'}, 'ExtensionApp': {'log_level': 'DEBUG'}, 'IdentityProvider': {'token': ''}}\n",
            "[W 2025-02-23 10:21:17.004 ServerApp] ServerApp.iopub_data_rate_limit config is deprecated in 2.0. Use ZMQChannelsWebsocketConnection.iopub_data_rate_limit.\n",
            "[W 2025-02-23 10:21:17.005 ServerApp] ServerApp.iopub_msg_rate_limit config is deprecated in 2.0. Use ZMQChannelsWebsocketConnection.iopub_msg_rate_limit.\n",
            "[W 2025-02-23 10:21:17.005 ServerApp] ServerApp.rate_limit_window config is deprecated in 2.0. Use ZMQChannelsWebsocketConnection.rate_limit_window.\n",
            "[I 2025-02-23 10:21:17.005 ServerApp] nbclassic | extension was successfully linked.\n",
            "[I 2025-02-23 10:21:17.009 ServerApp] google.colab._serverextension | extension was found and enabled by notebook_shim. Consider moving the extension to Jupyter Server's extension paths.\n",
            "[I 2025-02-23 10:21:17.009 ServerApp] notebook_shim | extension was successfully linked.\n",
            "[I 2025-02-23 10:21:17.009 ServerApp] panel.io.jupyter_server_extension | extension was successfully linked.\n",
            "[D 2025-02-23 10:21:17.011 ServerApp] Config changed: {'KernelManager': {'transport': 'ipc'}, 'FileContentsManager': {'root_dir': '/'}, 'MappingKernelManager': {'root_dir': '/content'}, 'ExtensionApp': {'log_level': 'DEBUG'}, 'IdentityProvider': {'token': ''}, 'ZMQChannelsWebsocketConnection': {'iopub_data_rate_limit': 10000000000.0, 'iopub_msg_rate_limit': 10000.0, 'rate_limit_window': 1.0}, 'NotebookApp': {'open_browser': False, 'log_format': '|%(levelname)s|%(message)s', 'nbserver_extensions': {'google.colab._serverextension': False}}, 'ServerApp': {'allow_root': True, 'port_retries': 0, 'iopub_data_rate_limit': 10000000000.0, 'iopub_msg_rate_limit': 10000, 'rate_limit_window': 1.0, 'login_handler_class': 'google.colab._login_handler.ColabLoginHandler', 'allow_origin': '*', 'allow_remote_access': True, 'disable_check_xsrf': True, 'ip': '0.0.0.0', 'port': 8888, 'log_level': 'DEBUG', 'jpserver_extensions': <LazyConfigValue value={'jupyterlab': True, 'ipyparallel': True, 'jupyter_lsp': True, 'jupyter_server_terminals': True, 'nbclassic': True, 'notebook_shim': True, 'panel.io.jupyter_server_extension': True}>, 'token': DeferredConfigString('')}, 'JupyterApp': {'answer_yes': True}, 'Application': {'log_level': 10}, 'MultiKernelManager': {'default_kernel_name': 'python3'}, 'Session': {'key': b'', 'keyfile': ''}}\n",
            "[W 2025-02-23 10:21:17.015 ServerApp] Customizing authentication via ServerApp.login_handler_class=<class 'google.colab._login_handler.ColabLoginHandler'> is deprecated in Jupyter Server 2.0. Use ServerApp.identity_provider_class. Falling back on legacy authentication.\n",
            "[I 2025-02-23 10:21:17.031 ServerApp] notebook_shim | extension was successfully loaded.\n",
            "[I 2025-02-23 10:21:17.033 ServerApp] Loading IPython parallel extension\n",
            "[I 2025-02-23 10:21:17.033 ServerApp] ipyparallel | extension was successfully loaded.\n",
            "[D 2025-02-23 10:21:17.036 ServerApp] [lsp] rootUri will be file:///\n",
            "[D 2025-02-23 10:21:17.037 ServerApp] [lsp] virtualDocumentsUri will be file:///.virtual_documents\n",
            "[I 2025-02-23 10:21:17.037 ServerApp] jupyter_lsp | extension was successfully loaded.\n",
            "[I 2025-02-23 10:21:17.039 ServerApp] jupyter_server_terminals | extension was successfully loaded.\n",
            "[I 2025-02-23 10:21:17.044 LabApp] JupyterLab extension loaded from /usr/local/lib/python3.11/dist-packages/jupyterlab\n",
            "[I 2025-02-23 10:21:17.044 LabApp] JupyterLab application directory is /usr/local/share/jupyter/lab\n",
            "[I 2025-02-23 10:21:17.044 LabApp] Extension Manager is 'pypi'.\n",
            "[D 2025-02-23 10:21:17.045 LabApp] Plugins in PyPIExtensionManager will managed on the sys_prefix level\n"
          ]
        }
      ]
    },
    {
      "cell_type": "code",
      "source": [
        "# !cat /usr/local/etc/jupyter/jupyter_notebook_config.json\n",
        "# !sed -i 's/\"google\\.colab\\._serverextension\": true/\"google.colab._serverextension\": false/g' /usr/local/etc/jupyter/jupyter_notebook_config.json\n",
        "# !cat /usr/local/etc/jupyter/jupyter_notebook_config.json"
      ],
      "metadata": {
        "colab": {
          "base_uri": "https://localhost:8080/"
        },
        "id": "C4rsk7XsxwwY",
        "outputId": "64ba1463-5856-4f5f-cb2c-a8f5294be4df"
      },
      "execution_count": 26,
      "outputs": [
        {
          "output_type": "stream",
          "name": "stdout",
          "text": [
            "{\n",
            "  \"NotebookApp\": {\n",
            "    \"nbserver_extensions\": {\n",
            "      \"google.colab._serverextension\": true\n",
            "    }\n",
            "  }\n",
            "}{\n",
            "  \"NotebookApp\": {\n",
            "    \"nbserver_extensions\": {\n",
            "      \"google.colab._serverextension\": false\n",
            "    }\n",
            "  }\n",
            "}"
          ]
        }
      ]
    },
    {
      "cell_type": "code",
      "source": [
        "#查看本地连接地址\n",
        "!grep --text 'http://127.0.0.1:888.*/.*?token=' /content/nohup.out|grep ServerAp"
      ],
      "metadata": {
        "id": "oShyyJubqj4G"
      },
      "execution_count": 46,
      "outputs": []
    },
    {
      "cell_type": "code",
      "source": [
        "!/usr/bin/python3.11 -m pip install pyngrok\n",
        "from pyngrok import ngrok\n",
        "\n",
        "# 配置Ngrok的API密钥，https://dashboard.ngrok.com/authtokens获取\n",
        "ngrok.set_auth_token(\"2tQS9JFaundzQdy8st3mnfvjME8_62HwRuXYPeV2134Rbr8XD\")\n",
        "# 利用ngrok转发8888的lab服务，登录使用日志中的token\n",
        "print(ngrok.connect(8888))"
      ],
      "metadata": {
        "colab": {
          "base_uri": "https://localhost:8080/"
        },
        "id": "mm4B1bTP12ML",
        "outputId": "397ea5a2-836f-418d-912a-51583fb6bbf4"
      },
      "execution_count": 9,
      "outputs": [
        {
          "output_type": "stream",
          "name": "stdout",
          "text": [
            "Requirement already satisfied: pyngrok in /usr/local/lib/python3.11/dist-packages (7.2.3)\n",
            "Requirement already satisfied: PyYAML>=5.1 in /usr/local/lib/python3.11/dist-packages (from pyngrok) (6.0.2)\n",
            "NgrokTunnel: \"https://de22-35-245-135-246.ngrok-free.app\" -> \"http://localhost:8888\"\n"
          ]
        }
      ]
    },
    {
      "cell_type": "code",
      "source": [
        "!ps -efw|grep jupyter"
      ],
      "metadata": {
        "colab": {
          "base_uri": "https://localhost:8080/"
        },
        "id": "PQK5rhni6Uos",
        "outputId": "3f3252c4-3e1e-44fb-ab30-098695d37d63"
      },
      "execution_count": 10,
      "outputs": [
        {
          "output_type": "stream",
          "name": "stdout",
          "text": [
            "root          88       7  2 12:31 ?        00:00:04 /usr/bin/python3 /usr/local/bin/jupyter-notebook --debug --transport=\"ipc\" --ip=\n",
            "root         250      88  2 12:31 ?        00:00:03 /usr/bin/python3 -m colab_kernel_launcher -f /root/.local/share/jupyter/runtime/\n",
            "root         907       1  6 12:33 ?        00:00:03 /usr/bin/python3.11 /usr/local/bin/jupyter-lab --debug --transport=ipc --ip=0.0.\n",
            "root        1303     250  0 12:34 ?        00:00:00 /bin/bash -c ps -efw|grep jupyter\n",
            "root        1305    1303  0 12:34 ?        00:00:00 grep jupyter\n"
          ]
        }
      ]
    },
    {
      "cell_type": "code",
      "source": [
        "!kill 2894"
      ],
      "metadata": {
        "id": "sAVQuMWumf0-"
      },
      "execution_count": 40,
      "outputs": []
    }
  ]
}