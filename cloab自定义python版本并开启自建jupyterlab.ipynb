{
  "nbformat": 4,
  "nbformat_minor": 0,
  "metadata": {
    "colab": {
      "provenance": [],
      "authorship_tag": "ABX9TyNCBd6/hpNG+nVnwjwa9j12",
      "include_colab_link": true
    },
    "kernelspec": {
      "name": "python3",
      "display_name": "Python 3"
    },
    "language_info": {
      "name": "python"
    }
  },
  "cells": [
    {
      "cell_type": "markdown",
      "metadata": {
        "id": "view-in-github",
        "colab_type": "text"
      },
      "source": [
        "<a href=\"https://colab.research.google.com/github/ggzone/devops/blob/main/cloab%E8%87%AA%E5%AE%9A%E4%B9%89python%E7%89%88%E6%9C%AC%E5%B9%B6%E5%BC%80%E5%90%AF%E8%87%AA%E5%BB%BAjupyterlab.ipynb\" target=\"_parent\"><img src=\"https://colab.research.google.com/assets/colab-badge.svg\" alt=\"Open In Colab\"/></a>"
      ]
    },
    {
      "cell_type": "code",
      "source": [
        "from google.colab import drive\n",
        "drive.mount('/content/drive/')\n",
        "\n",
        "import os\n",
        "os.chdir('/content/drive/MyDrive/comfui')\n",
        "!pwd"
      ],
      "metadata": {
        "colab": {
          "base_uri": "https://localhost:8080/"
        },
        "id": "o88TwMEMlPTV",
        "outputId": "e70f1131-6996-4ee6-821a-6cc595ada183"
      },
      "execution_count": 1,
      "outputs": [
        {
          "output_type": "stream",
          "name": "stdout",
          "text": [
            "Mounted at /content/drive/\n",
            "/content/drive/MyDrive/comfui\n"
          ]
        }
      ]
    },
    {
      "cell_type": "code",
      "source": [
        "!python --version\n",
        "!pip --version\n",
        "!which python|xargs -I {} ls -lah {}\n",
        "!which pip|xargs -I {} ls -lah {}"
      ],
      "metadata": {
        "colab": {
          "base_uri": "https://localhost:8080/"
        },
        "id": "TK2ffyLKBZrt",
        "outputId": "39ebef8b-18d2-4b6b-af3b-27aa549d15a5"
      },
      "execution_count": 1,
      "outputs": [
        {
          "output_type": "stream",
          "name": "stdout",
          "text": [
            "Python 3.11.11\n",
            "pip 24.1.2 from /usr/local/lib/python3.11/dist-packages/pip (python 3.11)\n",
            "-r-xr-xr-x 1 root root 155 Jan  1  2000 /usr/local/bin/python\n",
            "-r-xr-xr-x 1 root root 155 Jan  1  2000 /usr/local/bin/pip\n"
          ]
        }
      ]
    },
    {
      "cell_type": "code",
      "execution_count": null,
      "metadata": {
        "id": "nnex_2dOkXmM"
      },
      "outputs": [],
      "source": [
        "!sudo apt-get install python3.12"
      ]
    },
    {
      "cell_type": "code",
      "source": [
        "!mv /usr/local/bin/python /usr/local/bin/python-3.11\n",
        "!cp /usr/bin/python3.12 /usr/local/bin/python"
      ],
      "metadata": {
        "colab": {
          "base_uri": "https://localhost:8080/"
        },
        "id": "zXWo1qIuC3H7",
        "outputId": "2bf63d07-2741-49c9-8c13-d9878eef846a"
      },
      "execution_count": 3,
      "outputs": [
        {
          "output_type": "stream",
          "name": "stdout",
          "text": [
            "-rwxr-xr-x 1 root root 7.6M Feb 23 10:02 /usr/local/bin/python\n",
            "-r-xr-xr-x 1 root root 155 Jan  1  2000 /usr/local/bin/pip\n"
          ]
        }
      ]
    },
    {
      "cell_type": "code",
      "source": [
        "#默认pip是3.11版本，需要更新到python3.12，会造成全局更新\n",
        "!curl https://bootstrap.pypa.io/get-pip.py -o get-pip.py\n",
        "!/usr/bin/python3.12 get-pip.py"
      ],
      "metadata": {
        "colab": {
          "base_uri": "https://localhost:8080/"
        },
        "id": "8Lk59j5Q4JDH",
        "outputId": "ff7274e1-8b20-498c-cf38-85aa59d83b41"
      },
      "execution_count": 4,
      "outputs": [
        {
          "output_type": "stream",
          "name": "stdout",
          "text": [
            "  % Total    % Received % Xferd  Average Speed   Time    Time     Time  Current\n",
            "                                 Dload  Upload   Total   Spent    Left  Speed\n",
            "100 2246k  100 2246k    0     0  8899k      0 --:--:-- --:--:-- --:--:-- 8878k\n",
            "Collecting pip\n",
            "  Downloading pip-25.0.1-py3-none-any.whl.metadata (3.7 kB)\n",
            "Downloading pip-25.0.1-py3-none-any.whl (1.8 MB)\n",
            "\u001b[2K   \u001b[90m━━━━━━━━━━━━━━━━━━━━━━━━━━━━━━━━━━━━━━━━\u001b[0m \u001b[32m1.8/1.8 MB\u001b[0m \u001b[31m7.9 MB/s\u001b[0m eta \u001b[36m0:00:00\u001b[0m\n",
            "\u001b[?25hInstalling collected packages: pip\n",
            "Successfully installed pip-25.0.1\n"
          ]
        }
      ]
    },
    {
      "cell_type": "code",
      "source": [
        "#重启会话\n",
        "!python --version\n",
        "!pip --version\n",
        "!/usr/bin/python3.12 --version\n",
        "!/usr/bin/python3.12 -m pip --version"
      ],
      "metadata": {
        "colab": {
          "base_uri": "https://localhost:8080/"
        },
        "id": "X9S4VlGfDi-D",
        "outputId": "cf322ce0-bea4-4143-8e7b-8ad1ee55ccae"
      },
      "execution_count": 5,
      "outputs": [
        {
          "output_type": "stream",
          "name": "stdout",
          "text": [
            "Python 3.12.9\n",
            "pip 25.0.1 from /usr/local/lib/python3.12/dist-packages/pip (python 3.12)\n",
            "Python 3.12.9\n",
            "pip 25.0.1 from /usr/local/lib/python3.12/dist-packages/pip (python 3.12)\n"
          ]
        }
      ]
    },
    {
      "cell_type": "code",
      "source": [
        "#!sudo update-alternatives --install /usr/local/bin/python python3 /usr/bin/python3.12 1"
      ],
      "metadata": {
        "colab": {
          "base_uri": "https://localhost:8080/"
        },
        "id": "sWooFNex1rGV",
        "outputId": "fb7caaf9-65c3-4560-ed2d-15f797a9d8f4"
      },
      "execution_count": 3,
      "outputs": [
        {
          "output_type": "stream",
          "name": "stdout",
          "text": [
            "update-alternatives: renaming python3 link from /usr/bin/python3 to /usr/local/bin/python\n"
          ]
        }
      ]
    },
    {
      "cell_type": "code",
      "source": [
        "# cloab默认环境是3.11,直接在新安装的3.12安装jupyterlab启动会报错。该处是在3.11上安装jupyterlab\n",
        "!/usr/bin/python3.11 -m pip install jupyterlab\n",
        "!which jupyter-lab"
      ],
      "metadata": {
        "id": "PhdApA_aPEuH"
      },
      "execution_count": null,
      "outputs": []
    },
    {
      "cell_type": "code",
      "source": [
        "#!nohup /usr/local/bin/jupyter-lab --ip=0.0.0.0 --NotebookApp.token= --allow-root 2>&1>/content/nohup.out &"
      ],
      "metadata": {
        "colab": {
          "base_uri": "https://localhost:8080/"
        },
        "id": "nvuWxKrx3N0A",
        "outputId": "eb07568d-9915-4ffc-a3e8-925e6301e428"
      },
      "execution_count": 30,
      "outputs": [
        {
          "output_type": "stream",
          "name": "stdout",
          "text": [
            "nohup: redirecting stderr to stdout\n"
          ]
        }
      ]
    },
    {
      "cell_type": "code",
      "source": [
        "#启动一个新的jupyterlab，借助ngork进行内网穿透访问，主要是方便终端操作。\n",
        "!nohup /usr/local/bin/jupyter-lab --debug --transport=\"ipc\" --ip=0.0.0.0 --NotebookApp.token= --port=8888 --FileContentsManager.root_dir=/ --MappingKernelManager.root_dir=/content 2>&1>/content/nohup.out &"
      ],
      "metadata": {
        "colab": {
          "base_uri": "https://localhost:8080/"
        },
        "id": "EOmbTv1FH_We",
        "outputId": "6661d7b3-0d72-49e3-e917-5ea5fe694401"
      },
      "execution_count": 42,
      "outputs": [
        {
          "output_type": "stream",
          "name": "stdout",
          "text": [
            "nohup: redirecting stderr to stdout\n"
          ]
        }
      ]
    },
    {
      "cell_type": "code",
      "source": [
        "!tail -n 50 /content/nohup.out"
      ],
      "metadata": {
        "colab": {
          "base_uri": "https://localhost:8080/"
        },
        "id": "fwXKZGW9FhV7",
        "outputId": "3c53c308-3311-47fd-c34f-b9b478f1d4d4"
      },
      "execution_count": 43,
      "outputs": [
        {
          "output_type": "stream",
          "name": "stdout",
          "text": [
            "[D 2025-02-23 10:21:15.436 ServerApp] Looking for jupyter_config in /usr/local/etc/jupyter\n",
            "[D 2025-02-23 10:21:15.436 ServerApp] Looking for jupyter_config in /usr/etc/jupyter\n",
            "[D 2025-02-23 10:21:15.436 ServerApp] Looking for jupyter_config in /root/.local/etc/jupyter\n",
            "[D 2025-02-23 10:21:15.436 ServerApp] Looking for jupyter_config in /root/.jupyter\n",
            "[D 2025-02-23 10:21:15.437 ServerApp] Looking for jupyter_server_config in /etc/jupyter\n",
            "[D 2025-02-23 10:21:15.437 ServerApp] Looking for jupyter_server_config in /usr/local/etc/jupyter\n",
            "[D 2025-02-23 10:21:15.437 ServerApp] Looking for jupyter_server_config in /usr/etc/jupyter\n",
            "[D 2025-02-23 10:21:15.437 ServerApp] Looking for jupyter_server_config in /root/.local/etc/jupyter\n",
            "[D 2025-02-23 10:21:15.437 ServerApp] Looking for jupyter_server_config in /root/.jupyter\n",
            "[I 2025-02-23 10:21:16.866 ServerApp] ipyparallel | extension was successfully linked.\n",
            "[I 2025-02-23 10:21:16.866 ServerApp] jupyter_lsp | extension was successfully linked.\n",
            "[D 2025-02-23 10:21:16.872 TerminalsExtensionApp] Config changed: {'KernelManager': {'transport': 'ipc'}, 'ServerApp': {'ip': '0.0.0.0', 'port': 8888, 'log_level': 'DEBUG', 'jpserver_extensions': <LazyConfigValue {'update': {'ipyparallel': True, 'jupyter_lsp': True, 'jupyter_server_terminals': True, 'nbclassic': True, 'notebook_shim': True, 'panel.io.jupyter_server_extension': True}}>}, 'NotebookApp': {'token': DeferredConfigString('')}, 'FileContentsManager': {'root_dir': '/'}, 'MappingKernelManager': {'root_dir': '/content'}, 'ExtensionApp': {'log_level': 'DEBUG'}}\n",
            "[D 2025-02-23 10:21:16.874 ServerApp] Config changed: {'KernelManager': {'transport': 'ipc'}, 'ServerApp': {'ip': '0.0.0.0', 'port': 8888, 'log_level': 'DEBUG', 'jpserver_extensions': <LazyConfigValue value={'jupyterlab': True, 'ipyparallel': True, 'jupyter_lsp': True, 'jupyter_server_terminals': True, 'nbclassic': True, 'notebook_shim': True, 'panel.io.jupyter_server_extension': True}>}, 'NotebookApp': {'token': DeferredConfigString('')}, 'FileContentsManager': {'root_dir': '/'}, 'MappingKernelManager': {'root_dir': '/content'}, 'ExtensionApp': {'log_level': 'DEBUG'}}\n",
            "[I 2025-02-23 10:21:16.875 ServerApp] jupyter_server_terminals | extension was successfully linked.\n",
            "[W 2025-02-23 10:21:16.877 LabApp] 'token' has moved from NotebookApp to ServerApp. This config will be passed to ServerApp. Be sure to update your config before our next release.\n",
            "[D 2025-02-23 10:21:16.881 LabApp] Config changed: {'NotebookApp': {}, 'ServerApp': {'ip': '0.0.0.0', 'port': 8888, 'log_level': 'DEBUG', 'jpserver_extensions': <LazyConfigValue value={'jupyterlab': True, 'ipyparallel': True, 'jupyter_lsp': True, 'jupyter_server_terminals': True, 'nbclassic': True, 'notebook_shim': True, 'panel.io.jupyter_server_extension': True}>, 'token': DeferredConfigString('')}, 'KernelManager': {'transport': 'ipc'}, 'FileContentsManager': {'root_dir': '/'}, 'MappingKernelManager': {'root_dir': '/content'}, 'ExtensionApp': {'log_level': 'DEBUG'}}\n",
            "[W 2025-02-23 10:21:16.882 ServerApp] ServerApp.token config is deprecated in 2.0. Use IdentityProvider.token.\n",
            "[I 2025-02-23 10:21:16.882 ServerApp] jupyterlab | extension was successfully linked.\n",
            "[W 2025-02-23 10:21:16.885 NotebookApp] 'allow_root' has moved from NotebookApp to ServerApp. This config will be passed to ServerApp. Be sure to update your config before our next release.\n",
            "[W 2025-02-23 10:21:16.885 NotebookApp] 'allow_root' has moved from NotebookApp to ServerApp. This config will be passed to ServerApp. Be sure to update your config before our next release.\n",
            "[W 2025-02-23 10:21:16.885 NotebookApp] 'port_retries' has moved from NotebookApp to ServerApp. This config will be passed to ServerApp. Be sure to update your config before our next release.\n",
            "[W 2025-02-23 10:21:16.885 NotebookApp] 'iopub_data_rate_limit' has moved from NotebookApp to ServerApp. This config will be passed to ServerApp. Be sure to update your config before our next release.\n",
            "[W 2025-02-23 10:21:16.885 NotebookApp] 'iopub_msg_rate_limit' has moved from NotebookApp to ServerApp. This config will be passed to ServerApp. Be sure to update your config before our next release.\n",
            "[W 2025-02-23 10:21:16.885 NotebookApp] 'rate_limit_window' has moved from NotebookApp to ServerApp. This config will be passed to ServerApp. Be sure to update your config before our next release.\n",
            "[W 2025-02-23 10:21:16.885 NotebookApp] 'login_handler_class' has moved from NotebookApp to ServerApp. This config will be passed to ServerApp. Be sure to update your config before our next release.\n",
            "[W 2025-02-23 10:21:16.885 NotebookApp] 'allow_origin' has moved from NotebookApp to ServerApp. This config will be passed to ServerApp. Be sure to update your config before our next release.\n",
            "[W 2025-02-23 10:21:16.885 NotebookApp] 'allow_remote_access' has moved from NotebookApp to ServerApp. This config will be passed to ServerApp. Be sure to update your config before our next release.\n",
            "[W 2025-02-23 10:21:16.885 NotebookApp] 'disable_check_xsrf' has moved from NotebookApp to ServerApp. This config will be passed to ServerApp. Be sure to update your config before our next release.\n",
            "[W 2025-02-23 10:21:16.885 NotebookApp] 'disable_check_xsrf' has moved from NotebookApp to ServerApp. This config will be passed to ServerApp. Be sure to update your config before our next release.\n",
            "|DEBUG|Config changed: {'NotebookApp': {'open_browser': False, 'log_format': '|%(levelname)s|%(message)s', 'nbserver_extensions': {'google.colab._serverextension': False}}, 'ServerApp': {'allow_root': True, 'port_retries': 0, 'iopub_data_rate_limit': 10000000000.0, 'iopub_msg_rate_limit': 10000, 'rate_limit_window': 1.0, 'login_handler_class': 'google.colab._login_handler.ColabLoginHandler', 'allow_origin': '*', 'allow_remote_access': True, 'disable_check_xsrf': True, 'ip': '0.0.0.0', 'port': 8888, 'log_level': 'DEBUG', 'jpserver_extensions': <LazyConfigValue value={'jupyterlab': True, 'ipyparallel': True, 'jupyter_lsp': True, 'jupyter_server_terminals': True, 'nbclassic': True, 'notebook_shim': True, 'panel.io.jupyter_server_extension': True}>, 'token': DeferredConfigString('')}, 'JupyterApp': {'answer_yes': True}, 'Application': {'log_level': 10}, 'MultiKernelManager': {'default_kernel_name': 'python3'}, 'Session': {'key': b'', 'keyfile': ''}, 'KernelManager': {'transport': 'ipc'}, 'FileContentsManager': {'root_dir': '/'}, 'MappingKernelManager': {'root_dir': '/content'}, 'ExtensionApp': {'log_level': 'DEBUG'}, 'IdentityProvider': {'token': ''}}\n",
            "[W 2025-02-23 10:21:17.004 ServerApp] ServerApp.iopub_data_rate_limit config is deprecated in 2.0. Use ZMQChannelsWebsocketConnection.iopub_data_rate_limit.\n",
            "[W 2025-02-23 10:21:17.005 ServerApp] ServerApp.iopub_msg_rate_limit config is deprecated in 2.0. Use ZMQChannelsWebsocketConnection.iopub_msg_rate_limit.\n",
            "[W 2025-02-23 10:21:17.005 ServerApp] ServerApp.rate_limit_window config is deprecated in 2.0. Use ZMQChannelsWebsocketConnection.rate_limit_window.\n",
            "[I 2025-02-23 10:21:17.005 ServerApp] nbclassic | extension was successfully linked.\n",
            "[I 2025-02-23 10:21:17.009 ServerApp] google.colab._serverextension | extension was found and enabled by notebook_shim. Consider moving the extension to Jupyter Server's extension paths.\n",
            "[I 2025-02-23 10:21:17.009 ServerApp] notebook_shim | extension was successfully linked.\n",
            "[I 2025-02-23 10:21:17.009 ServerApp] panel.io.jupyter_server_extension | extension was successfully linked.\n",
            "[D 2025-02-23 10:21:17.011 ServerApp] Config changed: {'KernelManager': {'transport': 'ipc'}, 'FileContentsManager': {'root_dir': '/'}, 'MappingKernelManager': {'root_dir': '/content'}, 'ExtensionApp': {'log_level': 'DEBUG'}, 'IdentityProvider': {'token': ''}, 'ZMQChannelsWebsocketConnection': {'iopub_data_rate_limit': 10000000000.0, 'iopub_msg_rate_limit': 10000.0, 'rate_limit_window': 1.0}, 'NotebookApp': {'open_browser': False, 'log_format': '|%(levelname)s|%(message)s', 'nbserver_extensions': {'google.colab._serverextension': False}}, 'ServerApp': {'allow_root': True, 'port_retries': 0, 'iopub_data_rate_limit': 10000000000.0, 'iopub_msg_rate_limit': 10000, 'rate_limit_window': 1.0, 'login_handler_class': 'google.colab._login_handler.ColabLoginHandler', 'allow_origin': '*', 'allow_remote_access': True, 'disable_check_xsrf': True, 'ip': '0.0.0.0', 'port': 8888, 'log_level': 'DEBUG', 'jpserver_extensions': <LazyConfigValue value={'jupyterlab': True, 'ipyparallel': True, 'jupyter_lsp': True, 'jupyter_server_terminals': True, 'nbclassic': True, 'notebook_shim': True, 'panel.io.jupyter_server_extension': True}>, 'token': DeferredConfigString('')}, 'JupyterApp': {'answer_yes': True}, 'Application': {'log_level': 10}, 'MultiKernelManager': {'default_kernel_name': 'python3'}, 'Session': {'key': b'', 'keyfile': ''}}\n",
            "[W 2025-02-23 10:21:17.015 ServerApp] Customizing authentication via ServerApp.login_handler_class=<class 'google.colab._login_handler.ColabLoginHandler'> is deprecated in Jupyter Server 2.0. Use ServerApp.identity_provider_class. Falling back on legacy authentication.\n",
            "[I 2025-02-23 10:21:17.031 ServerApp] notebook_shim | extension was successfully loaded.\n",
            "[I 2025-02-23 10:21:17.033 ServerApp] Loading IPython parallel extension\n",
            "[I 2025-02-23 10:21:17.033 ServerApp] ipyparallel | extension was successfully loaded.\n",
            "[D 2025-02-23 10:21:17.036 ServerApp] [lsp] rootUri will be file:///\n",
            "[D 2025-02-23 10:21:17.037 ServerApp] [lsp] virtualDocumentsUri will be file:///.virtual_documents\n",
            "[I 2025-02-23 10:21:17.037 ServerApp] jupyter_lsp | extension was successfully loaded.\n",
            "[I 2025-02-23 10:21:17.039 ServerApp] jupyter_server_terminals | extension was successfully loaded.\n",
            "[I 2025-02-23 10:21:17.044 LabApp] JupyterLab extension loaded from /usr/local/lib/python3.11/dist-packages/jupyterlab\n",
            "[I 2025-02-23 10:21:17.044 LabApp] JupyterLab application directory is /usr/local/share/jupyter/lab\n",
            "[I 2025-02-23 10:21:17.044 LabApp] Extension Manager is 'pypi'.\n",
            "[D 2025-02-23 10:21:17.045 LabApp] Plugins in PyPIExtensionManager will managed on the sys_prefix level\n"
          ]
        }
      ]
    },
    {
      "cell_type": "code",
      "source": [
        "!cat /usr/local/etc/jupyter/jupyter_notebook_config.json\n",
        "!sed -i 's/\"google\\.colab\\._serverextension\": true/\"google.colab._serverextension\": false/g' /usr/local/etc/jupyter/jupyter_notebook_config.json\n",
        "!cat /usr/local/etc/jupyter/jupyter_notebook_config.json"
      ],
      "metadata": {
        "colab": {
          "base_uri": "https://localhost:8080/"
        },
        "id": "C4rsk7XsxwwY",
        "outputId": "64ba1463-5856-4f5f-cb2c-a8f5294be4df"
      },
      "execution_count": 26,
      "outputs": [
        {
          "output_type": "stream",
          "name": "stdout",
          "text": [
            "{\n",
            "  \"NotebookApp\": {\n",
            "    \"nbserver_extensions\": {\n",
            "      \"google.colab._serverextension\": true\n",
            "    }\n",
            "  }\n",
            "}{\n",
            "  \"NotebookApp\": {\n",
            "    \"nbserver_extensions\": {\n",
            "      \"google.colab._serverextension\": false\n",
            "    }\n",
            "  }\n",
            "}"
          ]
        }
      ]
    },
    {
      "cell_type": "code",
      "source": [
        "#查看本地连接地址\n",
        "!grep --text 'http://127.0.0.1:888.*/.*?token=' /content/nohup.out|grep ServerAp"
      ],
      "metadata": {
        "id": "oShyyJubqj4G"
      },
      "execution_count": 46,
      "outputs": []
    },
    {
      "cell_type": "code",
      "source": [
        "!/usr/bin/python3.11 -m pip install pyngrok\n",
        "from pyngrok import ngrok\n",
        "\n",
        "# 配置Ngrok的API密钥，https://dashboard.ngrok.com/authtokens获取\n",
        "ngrok.set_auth_token(\"xxx\")\n",
        "# 利用ngrok转发8888的lab服务，登录使用日志中的token\n",
        "print(ngrok.connect(8888))"
      ],
      "metadata": {
        "colab": {
          "base_uri": "https://localhost:8080/"
        },
        "id": "mm4B1bTP12ML",
        "outputId": "3532aa63-0583-4a44-8611-7a311b629192"
      },
      "execution_count": 47,
      "outputs": [
        {
          "output_type": "stream",
          "name": "stdout",
          "text": [
            "Requirement already satisfied: pyngrok in /usr/local/lib/python3.11/dist-packages (7.2.3)\n",
            "Requirement already satisfied: PyYAML>=5.1 in /usr/local/lib/python3.11/dist-packages (from pyngrok) (6.0.2)\n",
            "NgrokTunnel: \"https://ed0d-34-73-61-15.ngrok-free.app\" -> \"http://localhost:8888\"\n"
          ]
        }
      ]
    },
    {
      "cell_type": "code",
      "source": [
        "!ps -efw|grep jupyter"
      ],
      "metadata": {
        "colab": {
          "base_uri": "https://localhost:8080/"
        },
        "id": "PQK5rhni6Uos",
        "outputId": "aad7b33a-df9f-4fe4-e2af-06ebfbee310b"
      },
      "execution_count": 41,
      "outputs": [
        {
          "output_type": "stream",
          "name": "stdout",
          "text": [
            "root          92       7  0 10:00 ?        00:00:06 /usr/bin/python3 /usr/local/bin/jupyter-notebook --debug --transport=\"ipc\" --ip=\n",
            "root         226      92  0 10:01 ?        00:00:07 /usr/bin/python3 -m colab_kernel_launcher -f /root/.local/share/jupyter/runtime/\n",
            "root        5275     226  0 10:20 ?        00:00:00 /bin/bash -c ps -efw|grep jupyter\n",
            "root        5277    5275  0 10:20 ?        00:00:00 grep jupyter\n"
          ]
        }
      ]
    },
    {
      "cell_type": "code",
      "source": [
        "!kill 2894"
      ],
      "metadata": {
        "id": "sAVQuMWumf0-"
      },
      "execution_count": 40,
      "outputs": []
    }
  ]
}